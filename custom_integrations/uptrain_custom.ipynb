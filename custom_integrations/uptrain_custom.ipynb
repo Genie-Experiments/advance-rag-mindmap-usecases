{
 "cells": [
  {
   "cell_type": "code",
   "execution_count": null,
   "id": "732cb378-59b3-4472-b8de-9ba82b2a1089",
   "metadata": {},
   "outputs": [],
   "source": [
    "import pandas as pd\n",
    "resultdf=pd.read_csv(\"basicresult.csv\")"
   ]
  },
  {
   "cell_type": "code",
   "execution_count": null,
   "id": "6d6b3369-c291-4d0b-939d-f16a4b2af8b0",
   "metadata": {},
   "outputs": [],
   "source": [
    "from uptrain import EvalLLM, ResponseMatching\n",
    "from uptrain import EvalLLM, Evals, Settings\n",
    "import json\n",
    "\n",
    "data = []\n",
    "scores=[]\n",
    "settings = Settings(model='ollama/llama3')\n",
    "eval_llm = EvalLLM(settings)\n",
    "for index, item in resultdf.iterrows():\n",
    "    data = [{\n",
    "        \"question\": [item['question']],\n",
    "        \"response\": [item['answer']],\n",
    "        \"ground_truth\": [item['ground_truths']],\n",
    "        \"context\":[item['contexts']]\n",
    "        \n",
    "    }]\n",
    "    \n",
    "    res = eval_llm.evaluate(\n",
    "        data=data,\n",
    "        checks = [ResponseMatching(method = 'llm')]  \n",
    "        #checks = [Evals.CONTEXT_RELEVANCE]   #use these or by your choice any\n",
    "    )\n",
    "   \n",
    "    for evaluation_result in res:\n",
    "        score = evaluation_result['score_response_match_llm']\n",
    "        #score = evaluation_result['score_context_relevance']\n",
    "        scores.append(score)\n",
    "  \n",
    "average_score = sum(scores) / len(scores)\n",
    "print(\"Average response matching Score:\", average_score)"
   ]
  }
 ],
 "metadata": {
  "kernelspec": {
   "display_name": "Python 3 (ipykernel)",
   "language": "python",
   "name": "python3"
  },
  "language_info": {
   "codemirror_mode": {
    "name": "ipython",
    "version": 3
   },
   "file_extension": ".py",
   "mimetype": "text/x-python",
   "name": "python",
   "nbconvert_exporter": "python",
   "pygments_lexer": "ipython3",
   "version": "3.11.4"
  }
 },
 "nbformat": 4,
 "nbformat_minor": 5
}

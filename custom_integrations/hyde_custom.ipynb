{
 "cells": [
  {
   "cell_type": "code",
   "execution_count": 54,
   "metadata": {},
   "outputs": [],
   "source": [
    "from pathlib import Path\n",
    "from llama_index.readers.file import PDFReader\n",
    "from llama_index.readers.file import PyMuPDFReader\n",
    "import os\n",
    "from llama_index.core.storage.docstore import SimpleDocumentStore\n",
    "from llama_index.core import StorageContext\n",
    "from llama_index.llms.openai import OpenAI\n",
    "from llama_index.core.query_engine import RetrieverQueryEngine\n",
    "from llama_index.core.node_parser import get_leaf_nodes, get_root_nodes\n",
    "from llama_index.core import Document\n",
    "from llama_index.core.retrievers import AutoMergingRetriever\n",
    "from llama_index.core import VectorStoreIndex\n",
    "from llama_index.llms.ollama import Ollama\n",
    "from llama_index.core.storage.docstore import SimpleDocumentStore\n",
    "from llama_index.core.node_parser import (\n",
    "    HierarchicalNodeParser,\n",
    "    SentenceSplitter,\n",
    ")\n",
    "from langchain.embeddings.huggingface import HuggingFaceEmbeddings\n",
    "from llama_index.core import SimpleDirectoryReader, VectorStoreIndex, ServiceContext, StorageContext\n",
    "from llama_index.core.indices.query.query_transform import HyDEQueryTransform\n",
    "from llama_index.core.query_engine import TransformQueryEngine\n",
    "from llama_index.llms.groq import Groq\n"
   ]
  },
  {
   "cell_type": "code",
   "execution_count": 65,
   "metadata": {},
   "outputs": [],
   "source": [
    "from llama_index.core import Settings\n",
    "Settings.llm = Groq(model=\"llama3-8b-8192\", api_key=\" \")\n",
    "llm = Groq(model=\"llama3-8b-8192\", api_key=\" \")"
   ]
  },
  {
   "cell_type": "code",
   "execution_count": 57,
   "metadata": {},
   "outputs": [],
   "source": [
    "from llama_index.embeddings.huggingface import HuggingFaceEmbedding\n",
    "from llama_index.core import Settings\n",
    "\n",
    "embed_model = HuggingFaceEmbedding(\n",
    "    model_name=\"BAAI/bge-small-en-v1.5\"\n",
    "    )\n"
   ]
  },
  {
   "cell_type": "code",
   "execution_count": 58,
   "metadata": {},
   "outputs": [],
   "source": [
    "import csv\n",
    "import pandas as pd\n",
    "file_path = 'pdfsQna.csv'\n",
    "df = pd.read_csv(file_path)\n",
    "queries = df['Question'].tolist()\n"
   ]
  },
  {
   "cell_type": "code",
   "execution_count": 59,
   "metadata": {},
   "outputs": [],
   "source": [
    "index = VectorStoreIndex.from_documents(\n",
    "    documents, \n",
    "    embed_model=embed_model,\n",
    ")\n"
   ]
  },
  {
   "cell_type": "code",
   "execution_count": 60,
   "metadata": {},
   "outputs": [],
   "source": [
    "query_engine = index.as_query_engine(llm=llm)\n",
    "hyde = HyDEQueryTransform(include_original=True,llm=llm)\n",
    "hyde_query_engine = TransformQueryEngine(query_engine, hyde)"
   ]
  },
  {
   "cell_type": "code",
   "execution_count": 61,
   "metadata": {},
   "outputs": [],
   "source": [
    "def hyderetriver(queries,query_engine):\n",
    "    result=[]\n",
    "    file_path = 'pdfsQna.csv'\n",
    "    df = pd.read_csv(file_path)\n",
    "    for i, query in enumerate(queries): \n",
    "        print(query)\n",
    "        ground_truth = df.iloc[i]['GroundTruth']  \n",
    "        response = hyde_query_engine.query(query)\n",
    "        query_bundle = hyde(query)\n",
    "        hyde_doc = query_bundle.embedding_strs\n",
    "        result.append({'question': query, 'answer': str(response),'contexts':hyde_doc, 'ground_truths': ground_truth})\n",
    "    return result"
   ]
  },
  {
   "cell_type": "code",
   "execution_count": 66,
   "metadata": {},
   "outputs": [
    {
     "name": "stdout",
     "output_type": "stream",
     "text": [
      "What vulnerabilities has the COVID-19 pandemic revealed in the health care system and public health infrastructure?\n",
      "How has the COVID-19 pandemic affected the biomedical and health research enterprises?\n",
      "What challenges and lessons learned are discussed in the COVID 19 paper?\n",
      "How did the COVID-19 pandemic highlight the necessity for researchers to share data?\n",
      "What is the current status of research for COVID 19  described in the paper?\n",
      "How did public-private collaborations contribute to vaccine development during the COVID-19 pandemic?\n",
      "What strategies did the National Institutes of Health (NIH) adopt to accelerate the development of therapeutic interventions, vaccines, and diagnostics?\n",
      "What priorities are outlined in The Science Agenda for COVID-19 established by the Centers for Disease Control and Prevention (CDC)?\n",
      "How did research funders, including non-profit entities, contribute to the pandemic response?\n",
      "What efforts did the Patient-Centered Outcomes Research Institute (PCORI) undertake in response to the COVID-19 pandemic?\n",
      "What were Amazon's net sales in the first quarter of 2023?\n",
      "How much did net sales increase compared to the first quarter of 2022?\n",
      "What was the impact of foreign exchange rates on net sales?\n",
      "How did North America segment sales change year-over-year?\n",
      "What was the percentage increase in AWS segment sales?\n",
      "What was the operating income in the first quarter of 2023?\n",
      "How did North America segment operating income compare to the first quarter of 2022?\n",
      "What was the operating income for AWS segment?\n",
      "What was Amazon's net income in the first quarter of 2023?\n",
      "How did the operating cash flow change for the trailing twelve months?\n",
      "What does this paper on neural networks present?\n",
      "What types of DL models are used in the quality scoring system?\n",
      "How are abstracts classified in this system?\n",
      "What types of information are extracted by the question and answering model?\n",
      "Which model is used as the baseline for classification and EQA tasks?\n",
      "How many EMF-related research papers are used for fine-tuning?\n",
      "What improvements were observed in the fine-tuned model on EQA tasks?\n",
      "How does the software system categorize EMF-related scientific papers?\n",
      "What are the different evaluation strategies mentioned in the study?\n",
      "What is the method used for classification?\n",
      "What was the total revenue for Q1 2023?\n",
      "What was the operating income for Q1 2023?\n",
      "How many animals were used in the in-vivo study?\n",
      "What frequency was used for exposure in the study?\n",
      "What is the signal frequency mentioned in the study?\n",
      "What is the number of subjects used in the experiment?\n",
      "What are the findings of the Amazon Q1 2023 earnings?\n",
      "Describe the methodology used in the in-vivo study.\n",
      "What was the gross profit for Q1 2023?\n",
      "What is the classification model used in the study?\n",
      "What are the key performance metrics mentioned?\n",
      "How many pages does the BioMedical_PDF have?\n",
      "What experimental subjects are used in the scientific study?\n",
      "What is the research approach mentioned?\n",
      "What was the net income for Q1 2023?\n",
      "What is the value of in  n retrained  testing test dataset?\n",
      "For 1st fine tuning, what data was given to BERT model?\n",
      "What animal has been used?\n",
      "What are the questions from Group 1 Research subject\n"
     ]
    }
   ],
   "source": [
    "hyderesult=hyderetriver(queries,query_engine)"
   ]
  }
 ],
 "metadata": {
  "kernelspec": {
   "display_name": "Python 3 (ipykernel)",
   "language": "python",
   "name": "python3"
  },
  "language_info": {
   "codemirror_mode": {
    "name": "ipython",
    "version": 3
   },
   "file_extension": ".py",
   "mimetype": "text/x-python",
   "name": "python",
   "nbconvert_exporter": "python",
   "pygments_lexer": "ipython3",
   "version": "3.11.4"
  }
 },
 "nbformat": 4,
 "nbformat_minor": 4
}

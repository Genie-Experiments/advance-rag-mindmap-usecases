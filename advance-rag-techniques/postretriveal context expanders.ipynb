{
 "cells": [
  {
   "cell_type": "code",
   "execution_count": null,
   "id": "dbad0f62",
   "metadata": {},
   "outputs": [],
   "source": [
    "from llama_index.core import SimpleDirectoryReader\n",
    "from llama_index.core.node_parser import SimpleNodeParser\n",
    "import openai\n",
    "import os\n",
    "from datasets import Dataset \n",
    "from ragas.metrics import context_precision\n",
    "\n",
    "from ragas import evaluate\n",
    "from ragas.metrics import context_recall\n",
    "import pandas as pd\n",
    "from llama_index.core.query_engine import RetrieverQueryEngine\n",
    "from llama_index.core import Document\n",
    "from llama_index.core.retrievers import AutoMergingRetriever\n",
    "from llama_index.core.node_parser import (\n",
    "    HierarchicalNodeParser,\n",
    "    SentenceSplitter,\n",
    ")\n",
    "from llama_index.core.storage.docstore import SimpleDocumentStore\n",
    "from llama_index.core import StorageContext\n",
    "from llama_index.llms.openai import OpenAI\n",
    "from llama_index.core import VectorStoreIndex\n",
    "\n",
    "from llama_index.core.retrievers import RecursiveRetriever\n",
    "from llama_index.core.query_engine import RetrieverQueryEngine\n",
    "from llama_index.core import get_response_synthesizer\n",
    "from llama_index.core import Settings\n",
    "from llama_index.core import (\n",
    "    VectorStoreIndex,\n",
    "    SimpleDirectoryReader,\n",
    ")\n",
    "from llama_index.core.node_parser import get_leaf_nodes, get_root_nodes\n",
    "import pandas as pd\n",
    "from llama_index.core.llama_pack import download_llama_pack\n",
    "import pandas as pd\n",
    "\n",
    "\n"
   ]
  },
  {
   "cell_type": "code",
   "execution_count": null,
   "id": "4251a7b5",
   "metadata": {},
   "outputs": [],
   "source": [
    "\n",
    "queries = [\n",
    "       \"What are the steps required to set up a boilerplate project using the Emumba Plugin?\",\n",
    "        \"Can you list some of the key features provided by the Emumba Plugin for React applications?\",\n",
    "        \"What is the purpose of the generateFiles function in the project setup generator, and how does it use the options provided?\",\n",
    "        \"Describe the role of addDependenciesToPackageJson in the project setup process.\",\n",
    "        \"How does the ProjectSetupGeneratorSchema interface influence the behavior of the project setup generator?\",\n",
    "        \"Explain how the project configuration is added to the workspace using addProjectConfiguration in the context of the setup process.\",\n",
    "        \"Describe the process and the purpose of creating a test project in the beforeAll setup of the emumba-plugin tests.\",\n",
    "        \"How does the test for emumba-plugin ensure that the plugin is properly installed and functional within a generated project?\",\n",
    "        \"there's a function used to create a test project directory. Output the code snippet that showcases how this directory is created and initialized.\",\n",
    "         '''Given the following incomplete snippet, complete the function to add a specific dependency to the project's package.json. \n",
    "           Assume the function addDependenciesToPackageJson is already imported.\n",
    "            function enhancePackageJson(tree: Tree, projectName: string) {\n",
    "            // Add 'react-redux' as a dependency\n",
    "            addDependenciesToPackageJson(tree, projectName, {\n",
    "                'react-redux': '^7.2.0'\n",
    "            }, {});\n",
    "            // Complete the function to also add 'redux' as a dependency\n",
    "        }'''\n",
    "]\n",
    "\n",
    "\n",
    "\n"
   ]
  },
  {
   "cell_type": "code",
   "execution_count": null,
   "id": "4139310e",
   "metadata": {},
   "outputs": [],
   "source": [
    "os.environ[\"OPENAI_API_KEY\"]  = \"your-key\"\n"
   ]
  },
  {
   "cell_type": "markdown",
   "id": "60afaf54",
   "metadata": {},
   "source": [
    "### Recursive Retriver"
   ]
  },
  {
   "cell_type": "code",
   "execution_count": null,
   "id": "ca0d4d7b",
   "metadata": {},
   "outputs": [],
   "source": [
    "documents = SimpleDirectoryReader('data/Boilerplate').load_data()\n",
    "doc_nodes = Settings.node_parser.get_nodes_from_documents(documents)\n",
    "vector_index = VectorStoreIndex(doc_nodes )\n",
    "vector_retriever = vector_index.as_retriever(similarity_top_k=1)\n",
    "recursive_retriever = RecursiveRetriever(\n",
    "    \"vector\",\n",
    "    retriever_dict={\"vector\": vector_retriever},\n",
    "    verbose=True,\n",
    ")\n",
    "\n",
    "response_synthesizer = get_response_synthesizer()\n",
    "\n",
    "query_engine = RetrieverQueryEngine.from_args(\n",
    "    recursive_retriever\n",
    ")"
   ]
  },
  {
   "cell_type": "code",
   "execution_count": null,
   "id": "addb52f2",
   "metadata": {},
   "outputs": [],
   "source": [
    "def recursiveretriver(queries,query_engine):\n",
    "    result=[]\n",
    "    file_path = 'positive_ground_truths.xlsx'\n",
    "    df = pd.read_excel(file_path)\n",
    "    for i, query in enumerate(queries, start=0): \n",
    "        ground_truth = df.iloc[i]['ground truth']  \n",
    "        response = query_engine.query(query)\n",
    "        result.append({'question': query, 'answer': str(response), 'ground_truths': ground_truth})\n",
    "    return result\n"
   ]
  },
  {
   "cell_type": "code",
   "execution_count": null,
   "id": "a02d0996",
   "metadata": {},
   "outputs": [],
   "source": [
    "result=recursiveretriver(queries,query_engine)"
   ]
  },
  {
   "cell_type": "markdown",
   "id": "1603e025",
   "metadata": {},
   "source": [
    "### Automerging retriver"
   ]
  },
  {
   "cell_type": "code",
   "execution_count": null,
   "id": "ed258829",
   "metadata": {},
   "outputs": [],
   "source": [
    "query_str = [\n",
    "    (\"What are the steps required to set up a boilerplate project\" \"using the Emumba Plugin?\"),\n",
    "    (\"Can you list some of the key features provided\"  \"by the Emumba Plugin for React applications?\"),\n",
    "    (\"What is the purpose of the generateFiles function in the project setup generator,\" \"and how does it use the options provided?\"),\n",
    "    (\"Describe the role of addDependenciesToPackageJson\" \"in the project setup process.\"),\n",
    "    (\"How does the ProjectSetupGeneratorSchema interface influence the behavior\" \"of the project setup generator?\"),\n",
    "    (\"Explain how the project configuration is added to the workspace\" \"using addProjectConfiguration in the context of the setup process.\"),\n",
    "    (\"Describe the process and the purpose of creating a test project\"  \"in the beforeAll setup of the emumba-plugin tests.\"),\n",
    "    (\"How does the test for emumba-plugin ensure that the plugin is properly installed\" \"and functional within a generated project?\"),\n",
    "    (\"there's a function used to create a test project directory.\" \"Output the code snippet that showcases how this directory is created and initialized.\"),\n",
    "    (\"Given the following incomplete snippet, complete the function to add a specific dependency to the project's package.json.\"\n",
    "     \"Assume the function addDependenciesToPackageJson is already imported.\\nfunction enhancePackageJson(tree: Tree, projectName: string) {\\n    // Add 'react-redux' as a dependency\\n    addDependenciesToPackageJson(tree, projectName, {\\n        'react-redux': '^7.2.0'\\n    }, {});\\n    // Complete the function to also add 'redux' as a dependency\\n}\")\n",
    "]\n"
   ]
  },
  {
   "cell_type": "code",
   "execution_count": null,
   "id": "78445e08",
   "metadata": {},
   "outputs": [],
   "source": [
    "\n",
    "doc_text = \"\\n\\n\".join([d.get_content() for d in documents])\n",
    "docs = [Document(text=doc_text)]\n",
    "node_parser = HierarchicalNodeParser.from_defaults()\n",
    "nodes = node_parser.get_nodes_from_documents(docs)\n",
    "leaf_nodes = get_leaf_nodes(nodes)\n",
    "root_nodes = get_root_nodes(nodes)\n",
    "docstore = SimpleDocumentStore()\n",
    "docstore.add_documents(nodes)\n",
    "storage_context = StorageContext.from_defaults(docstore=docstore)\n",
    "base_index = VectorStoreIndex(\n",
    "    leaf_nodes,\n",
    "    storage_context=storage_context,\n",
    ")\n",
    "base_retriever = base_index.as_retriever(similarity_top_k=6)\n",
    "retriever = AutoMergingRetriever(base_retriever, storage_context, verbose=True)\n",
    "\n",
    "\n",
    "\n"
   ]
  },
  {
   "cell_type": "code",
   "execution_count": null,
   "id": "a3b79d02-1763-45e6-b54c-4c67e09c8c67",
   "metadata": {},
   "outputs": [],
   "source": [
    "def automergingretrival(query_str,retriever):\n",
    "    result=[]\n",
    "    file_path = 'negative_ground_truths.xlsx'\n",
    "    df = pd.read_excel(file_path)\n",
    "    for i, query in enumerate(query_str, start=0): \n",
    "        ground_truth = df.iloc[i]['ground truth']  \n",
    "        nodes = retriever.retrieve(query)\n",
    "        query_engine = RetrieverQueryEngine.from_args(retriever)\n",
    "        response = query_engine.query(query)\n",
    "       \n",
    "        context=[]\n",
    "        for node_with_score in nodes:\n",
    "            text_content = node_with_score.node.text\n",
    "            context.append(text_content)\n",
    "        \n",
    "\n",
    "        \n",
    "        result.append({'question': query, 'answer': str(response), 'ground_truths': ground_truth,'contexts': context})\n",
    "    return result\n",
    "    "
   ]
  },
  {
   "cell_type": "code",
   "execution_count": null,
   "id": "6e9cdcce",
   "metadata": {},
   "outputs": [],
   "source": [
    "result=automergingretrival(queries,base_retriever)"
   ]
  },
  {
   "cell_type": "markdown",
   "id": "74291c37",
   "metadata": {},
   "source": [
    "## Sentence window Retriever Pack"
   ]
  },
  {
   "cell_type": "code",
   "execution_count": null,
   "id": "7a8f2217",
   "metadata": {},
   "outputs": [],
   "source": [
    "\n",
    "SentenceWindowRetrieverPack = download_llama_pack(\n",
    "    \"SentenceWindowRetrieverPack\",\n",
    "    \"./sentence_window_retriever_pack\",\n",
    ")\n",
    "sentence_window_retriever_pack = SentenceWindowRetrieverPack(\n",
    "    documents,\n",
    ")"
   ]
  },
  {
   "cell_type": "code",
   "execution_count": null,
   "id": "003d6130",
   "metadata": {},
   "outputs": [],
   "source": [
    "def sentencewindowretrieval(sentence_window_retriever_pack,queries):\n",
    "    result=[]\n",
    "    file_path = 'positive_ground_truths.xlsx'\n",
    "    df = pd.read_excel(file_path)\n",
    "    for i, query in enumerate(queries, start=0): \n",
    "        ground_truth = df.iloc[i]['ground truth']  \n",
    "        response = sentence_window_retriever_pack.run(query)\n",
    "        context=[]\n",
    "        for node_with_score in response.source_nodes:\n",
    "            node = node_with_score.node  \n",
    "            metadata = node.metadata  \n",
    "            if 'window' in metadata:\n",
    "                window_content = metadata['window']\n",
    "                context.append(window_content)\n",
    "            else:\n",
    "                context.append(None)\n",
    "        result.append({'question': query, 'answer': str(response), 'ground_truths': ground_truth,'contexts': context})\n",
    "    return result"
   ]
  },
  {
   "cell_type": "code",
   "execution_count": null,
   "id": "ad79a9bd",
   "metadata": {},
   "outputs": [],
   "source": [
    "result=sentencewindowretrieval(sentence_window_retriever_pack,queries)"
   ]
  }
 ],
 "metadata": {
  "kernelspec": {
   "display_name": "Python 3 (ipykernel)",
   "language": "python",
   "name": "python3"
  },
  "language_info": {
   "codemirror_mode": {
    "name": "ipython",
    "version": 3
   },
   "file_extension": ".py",
   "mimetype": "text/x-python",
   "name": "python",
   "nbconvert_exporter": "python",
   "pygments_lexer": "ipython3",
   "version": "3.11.4"
  }
 },
 "nbformat": 4,
 "nbformat_minor": 5
}
